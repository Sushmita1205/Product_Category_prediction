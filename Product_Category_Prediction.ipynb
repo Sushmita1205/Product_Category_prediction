{
 "cells": [
  {
   "cell_type": "markdown",
   "id": "horizontal-chair",
   "metadata": {},
   "source": [
    "# PRODUCT CATEGORY PREDICTION"
   ]
  },
  {
   "cell_type": "markdown",
   "id": "unable-programming",
   "metadata": {},
   "source": [
    "### About The Dataset:~\n",
    "This is a pre-crawled dataset, taken as subset of a bigger data set (more than 5.8 million products) that was created by extracting data from Flipkart.com, a leading Indian eCommerce store.\n",
    "\n",
    "\n",
    "### References :~ \n",
    "dataset - https://docs.google.com/spreadsheets/d/1pLv0fNE4WHokpJHUIs-FTVnmI9STgog05e658qEON0I/edit?usp=sharing\n",
    "\n",
    "Naive Bayes Classifiers- https://www.geeksforgeeks.org/naive-bayes-classifiers/\n",
    "\n",
    "NB: https://www.youtube.com/watch?v=O2L2Uv9pdDA\n",
    "\n",
    "### Assumptions:~\n",
    "Only five product category data is considered from the total set.\n",
    "\n",
    "\n",
    "### Objective:~\n",
    "\n",
    "* We will pick a Pre-crawled dataset in CSV format and read this dataset into a dataframe using Pandas Python library.\n",
    "* Perform data preparation ,cleaning and processing\n",
    "* Perform some data visualization techniques using Matplotlib and Seaborn.\n",
    "* Figuring out the primary category.\n",
    "* Defining the model using MultinomialNB and the model is used to predict the product category using description.\n",
    "* Accuracy of the model is measured.\n",
    "* Further the accuracy of the model is improved."
   ]
  },
  {
   "cell_type": "code",
   "execution_count": 1,
   "id": "permanent-expert",
   "metadata": {},
   "outputs": [
    {
     "name": "stdout",
     "output_type": "stream",
     "text": [
      "Collecting nltk\n",
      "  Downloading nltk-3.5.zip (1.4 MB)\n",
      "Collecting click\n",
      "  Downloading click-7.1.2-py2.py3-none-any.whl (82 kB)\n",
      "Collecting joblib\n",
      "  Downloading joblib-1.0.1-py3-none-any.whl (303 kB)\n",
      "Collecting regex\n",
      "  Downloading regex-2021.3.17-cp39-cp39-win_amd64.whl (270 kB)\n",
      "Collecting tqdm\n",
      "  Downloading tqdm-4.59.0-py2.py3-none-any.whl (74 kB)\n",
      "Using legacy 'setup.py install' for nltk, since package 'wheel' is not installed.\n",
      "Installing collected packages: tqdm, regex, joblib, click, nltk\n",
      "    Running setup.py install for nltk: started\n",
      "    Running setup.py install for nltk: finished with status 'done'\n",
      "Successfully installed click-7.1.2 joblib-1.0.1 nltk-3.5 regex-2021.3.17 tqdm-4.59.0\n",
      "Note: you may need to restart the kernel to use updated packages.\n"
     ]
    }
   ],
   "source": [
    "pip install nltk"
   ]
  },
  {
   "cell_type": "code",
   "execution_count": 3,
   "id": "geographic-virus",
   "metadata": {},
   "outputs": [
    {
     "name": "stdout",
     "output_type": "stream",
     "text": [
      "Collecting sklearn\n",
      "  Downloading sklearn-0.0.tar.gz (1.1 kB)\n",
      "Collecting scikit-learn\n",
      "  Downloading scikit_learn-0.24.1-cp39-cp39-win_amd64.whl (6.9 MB)\n",
      "Collecting threadpoolctl>=2.0.0\n",
      "  Downloading threadpoolctl-2.1.0-py3-none-any.whl (12 kB)\n",
      "Requirement already satisfied: scipy>=0.19.1 in c:\\python39\\lib\\site-packages (from scikit-learn->sklearn) (1.6.1)\n",
      "Requirement already satisfied: joblib>=0.11 in c:\\python39\\lib\\site-packages (from scikit-learn->sklearn) (1.0.1)\n",
      "Requirement already satisfied: numpy>=1.13.3 in c:\\python39\\lib\\site-packages (from scikit-learn->sklearn) (1.20.1)\n",
      "Using legacy 'setup.py install' for sklearn, since package 'wheel' is not installed.\n",
      "Installing collected packages: threadpoolctl, scikit-learn, sklearn\n",
      "    Running setup.py install for sklearn: started\n",
      "    Running setup.py install for sklearn: finished with status 'done'\n",
      "Successfully installed scikit-learn-0.24.1 sklearn-0.0 threadpoolctl-2.1.0\n",
      "Note: you may need to restart the kernel to use updated packages.\n"
     ]
    }
   ],
   "source": [
    "pip install sklearn"
   ]
  },
  {
   "cell_type": "markdown",
   "id": "caroline-antigua",
   "metadata": {},
   "source": [
    "#### Let's first import all the python libraries required-"
   ]
  },
  {
   "cell_type": "code",
   "execution_count": 1,
   "id": "understood-acquisition",
   "metadata": {},
   "outputs": [],
   "source": [
    "import numpy as np \n",
    "import pandas as pd \n",
    "import re \n",
    "import nltk \n",
    "from sklearn import preprocessing\n",
    "from sklearn.model_selection import train_test_split\n",
    "from sklearn.feature_extraction.text import CountVectorizer\n",
    "from sklearn.naive_bayes import MultinomialNB\n",
    "from sklearn.metrics import classification_report\n",
    "from sklearn.feature_extraction.text import TfidfVectorizer\n",
    "from sklearn import metrics \n",
    "import seaborn as sns\n",
    "import matplotlib.pyplot as plt"
   ]
  },
  {
   "cell_type": "markdown",
   "id": "severe-steel",
   "metadata": {},
   "source": [
    "## Data Preparation "
   ]
  },
  {
   "cell_type": "markdown",
   "id": "worse-simon",
   "metadata": {},
   "source": [
    "#### To read the file, we can use the read_csv method from Pandas. Data from the file is read and stored in a DataFrame object, import_df."
   ]
  },
  {
   "cell_type": "code",
   "execution_count": 2,
   "id": "british-mother",
   "metadata": {},
   "outputs": [
    {
     "data": {
      "text/html": [
       "<div>\n",
       "<style scoped>\n",
       "    .dataframe tbody tr th:only-of-type {\n",
       "        vertical-align: middle;\n",
       "    }\n",
       "\n",
       "    .dataframe tbody tr th {\n",
       "        vertical-align: top;\n",
       "    }\n",
       "\n",
       "    .dataframe thead th {\n",
       "        text-align: right;\n",
       "    }\n",
       "</style>\n",
       "<table border=\"1\" class=\"dataframe\">\n",
       "  <thead>\n",
       "    <tr style=\"text-align: right;\">\n",
       "      <th></th>\n",
       "      <th>uniq_id</th>\n",
       "      <th>crawl_timestamp</th>\n",
       "      <th>product_url</th>\n",
       "      <th>product_name</th>\n",
       "      <th>product_category_tree</th>\n",
       "      <th>pid</th>\n",
       "      <th>retail_price</th>\n",
       "      <th>discounted_price</th>\n",
       "      <th>image</th>\n",
       "      <th>is_FK_Advantage_product</th>\n",
       "      <th>description</th>\n",
       "      <th>product_rating</th>\n",
       "      <th>overall_rating</th>\n",
       "      <th>brand</th>\n",
       "      <th>product_specifications</th>\n",
       "    </tr>\n",
       "  </thead>\n",
       "  <tbody>\n",
       "    <tr>\n",
       "      <th>0</th>\n",
       "      <td>c2d766ca982eca8304150849735ffef9</td>\n",
       "      <td>2016-03-25 22:59:23 +0000</td>\n",
       "      <td>http://www.flipkart.com/alisha-solid-women-s-c...</td>\n",
       "      <td>Alisha Solid Women's Cycling Shorts</td>\n",
       "      <td>[\"Clothing &gt;&gt; Women's Clothing &gt;&gt; Lingerie, Sl...</td>\n",
       "      <td>SRTEH2FF9KEDEFGF</td>\n",
       "      <td>999.0</td>\n",
       "      <td>379.0</td>\n",
       "      <td>[\"http://img5a.flixcart.com/image/short/u/4/a/...</td>\n",
       "      <td>False</td>\n",
       "      <td>Key Features of Alisha Solid Women's Cycling S...</td>\n",
       "      <td>No rating available</td>\n",
       "      <td>No rating available</td>\n",
       "      <td>Alisha</td>\n",
       "      <td>{\"product_specification\"=&gt;[{\"key\"=&gt;\"Number of ...</td>\n",
       "    </tr>\n",
       "    <tr>\n",
       "      <th>1</th>\n",
       "      <td>7f7036a6d550aaa89d34c77bd39a5e48</td>\n",
       "      <td>2016-03-25 22:59:23 +0000</td>\n",
       "      <td>http://www.flipkart.com/fabhomedecor-fabric-do...</td>\n",
       "      <td>FabHomeDecor Fabric Double Sofa Bed</td>\n",
       "      <td>[\"Furniture &gt;&gt; Living Room Furniture &gt;&gt; Sofa B...</td>\n",
       "      <td>SBEEH3QGU7MFYJFY</td>\n",
       "      <td>32157.0</td>\n",
       "      <td>22646.0</td>\n",
       "      <td>[\"http://img6a.flixcart.com/image/sofa-bed/j/f...</td>\n",
       "      <td>False</td>\n",
       "      <td>FabHomeDecor Fabric Double Sofa Bed (Finish Co...</td>\n",
       "      <td>No rating available</td>\n",
       "      <td>No rating available</td>\n",
       "      <td>FabHomeDecor</td>\n",
       "      <td>{\"product_specification\"=&gt;[{\"key\"=&gt;\"Installati...</td>\n",
       "    </tr>\n",
       "    <tr>\n",
       "      <th>2</th>\n",
       "      <td>f449ec65dcbc041b6ae5e6a32717d01b</td>\n",
       "      <td>2016-03-25 22:59:23 +0000</td>\n",
       "      <td>http://www.flipkart.com/aw-bellies/p/itmeh4grg...</td>\n",
       "      <td>AW Bellies</td>\n",
       "      <td>[\"Footwear &gt;&gt; Women's Footwear &gt;&gt; Ballerinas &gt;...</td>\n",
       "      <td>SHOEH4GRSUBJGZXE</td>\n",
       "      <td>999.0</td>\n",
       "      <td>499.0</td>\n",
       "      <td>[\"http://img5a.flixcart.com/image/shoe/7/z/z/r...</td>\n",
       "      <td>False</td>\n",
       "      <td>Key Features of AW Bellies Sandals Wedges Heel...</td>\n",
       "      <td>No rating available</td>\n",
       "      <td>No rating available</td>\n",
       "      <td>AW</td>\n",
       "      <td>{\"product_specification\"=&gt;[{\"key\"=&gt;\"Ideal For\"...</td>\n",
       "    </tr>\n",
       "    <tr>\n",
       "      <th>3</th>\n",
       "      <td>0973b37acd0c664e3de26e97e5571454</td>\n",
       "      <td>2016-03-25 22:59:23 +0000</td>\n",
       "      <td>http://www.flipkart.com/alisha-solid-women-s-c...</td>\n",
       "      <td>Alisha Solid Women's Cycling Shorts</td>\n",
       "      <td>[\"Clothing &gt;&gt; Women's Clothing &gt;&gt; Lingerie, Sl...</td>\n",
       "      <td>SRTEH2F6HUZMQ6SJ</td>\n",
       "      <td>699.0</td>\n",
       "      <td>267.0</td>\n",
       "      <td>[\"http://img5a.flixcart.com/image/short/6/2/h/...</td>\n",
       "      <td>False</td>\n",
       "      <td>Key Features of Alisha Solid Women's Cycling S...</td>\n",
       "      <td>No rating available</td>\n",
       "      <td>No rating available</td>\n",
       "      <td>Alisha</td>\n",
       "      <td>{\"product_specification\"=&gt;[{\"key\"=&gt;\"Number of ...</td>\n",
       "    </tr>\n",
       "    <tr>\n",
       "      <th>4</th>\n",
       "      <td>bc940ea42ee6bef5ac7cea3fb5cfbee7</td>\n",
       "      <td>2016-03-25 22:59:23 +0000</td>\n",
       "      <td>http://www.flipkart.com/sicons-all-purpose-arn...</td>\n",
       "      <td>Sicons All Purpose Arnica Dog Shampoo</td>\n",
       "      <td>[\"Pet Supplies &gt;&gt; Grooming &gt;&gt; Skin &amp; Coat Care...</td>\n",
       "      <td>PSOEH3ZYDMSYARJ5</td>\n",
       "      <td>220.0</td>\n",
       "      <td>210.0</td>\n",
       "      <td>[\"http://img5a.flixcart.com/image/pet-shampoo/...</td>\n",
       "      <td>False</td>\n",
       "      <td>Specifications of Sicons All Purpose Arnica Do...</td>\n",
       "      <td>No rating available</td>\n",
       "      <td>No rating available</td>\n",
       "      <td>Sicons</td>\n",
       "      <td>{\"product_specification\"=&gt;[{\"key\"=&gt;\"Pet Type\",...</td>\n",
       "    </tr>\n",
       "    <tr>\n",
       "      <th>...</th>\n",
       "      <td>...</td>\n",
       "      <td>...</td>\n",
       "      <td>...</td>\n",
       "      <td>...</td>\n",
       "      <td>...</td>\n",
       "      <td>...</td>\n",
       "      <td>...</td>\n",
       "      <td>...</td>\n",
       "      <td>...</td>\n",
       "      <td>...</td>\n",
       "      <td>...</td>\n",
       "      <td>...</td>\n",
       "      <td>...</td>\n",
       "      <td>...</td>\n",
       "      <td>...</td>\n",
       "    </tr>\n",
       "    <tr>\n",
       "      <th>19995</th>\n",
       "      <td>7179d2f6c4ad50a17d014ca1d2815156</td>\n",
       "      <td>2015-12-01 10:15:43 +0000</td>\n",
       "      <td>http://www.flipkart.com/walldesign-small-vinyl...</td>\n",
       "      <td>WallDesign Small Vinyl Sticker</td>\n",
       "      <td>[\"Baby Care &gt;&gt; Baby &amp; Kids Gifts &gt;&gt; Stickers &gt;...</td>\n",
       "      <td>STIE7KFJAKSTDY9G</td>\n",
       "      <td>1500.0</td>\n",
       "      <td>730.0</td>\n",
       "      <td>[\"http://img6a.flixcart.com/image/wall-decorat...</td>\n",
       "      <td>False</td>\n",
       "      <td>Buy WallDesign Small Vinyl Sticker for Rs.730 ...</td>\n",
       "      <td>No rating available</td>\n",
       "      <td>No rating available</td>\n",
       "      <td>WallDesign</td>\n",
       "      <td>{\"product_specification\"=&gt;[{\"key\"=&gt;\"Number of ...</td>\n",
       "    </tr>\n",
       "    <tr>\n",
       "      <th>19996</th>\n",
       "      <td>71ac419198359d37b8fe5e3fffdfee09</td>\n",
       "      <td>2015-12-01 10:15:43 +0000</td>\n",
       "      <td>http://www.flipkart.com/wallmantra-large-vinyl...</td>\n",
       "      <td>Wallmantra Large Vinyl Stickers Sticker</td>\n",
       "      <td>[\"Baby Care &gt;&gt; Baby &amp; Kids Gifts &gt;&gt; Stickers &gt;...</td>\n",
       "      <td>STIE9F5URNQGJCGH</td>\n",
       "      <td>1429.0</td>\n",
       "      <td>1143.0</td>\n",
       "      <td>[\"http://img6a.flixcart.com/image/sticker/z/g/...</td>\n",
       "      <td>False</td>\n",
       "      <td>Buy Wallmantra Large Vinyl Stickers Sticker fo...</td>\n",
       "      <td>No rating available</td>\n",
       "      <td>No rating available</td>\n",
       "      <td>Wallmantra</td>\n",
       "      <td>{\"product_specification\"=&gt;[{\"key\"=&gt;\"Number of ...</td>\n",
       "    </tr>\n",
       "    <tr>\n",
       "      <th>19997</th>\n",
       "      <td>93e9d343837400ce0d7980874ece471c</td>\n",
       "      <td>2015-12-01 10:15:43 +0000</td>\n",
       "      <td>http://www.flipkart.com/elite-collection-mediu...</td>\n",
       "      <td>Elite Collection Medium Acrylic Sticker</td>\n",
       "      <td>[\"Baby Care &gt;&gt; Baby &amp; Kids Gifts &gt;&gt; Stickers &gt;...</td>\n",
       "      <td>STIE7VAYDKQZEBSD</td>\n",
       "      <td>1299.0</td>\n",
       "      <td>999.0</td>\n",
       "      <td>[\"http://img5a.flixcart.com/image/sticker/b/s/...</td>\n",
       "      <td>False</td>\n",
       "      <td>Buy Elite Collection Medium Acrylic Sticker fo...</td>\n",
       "      <td>No rating available</td>\n",
       "      <td>No rating available</td>\n",
       "      <td>Elite Collection</td>\n",
       "      <td>{\"product_specification\"=&gt;[{\"key\"=&gt;\"Number of ...</td>\n",
       "    </tr>\n",
       "    <tr>\n",
       "      <th>19998</th>\n",
       "      <td>669e79b8fa5d9ae020841c0c97d5e935</td>\n",
       "      <td>2015-12-01 10:15:43 +0000</td>\n",
       "      <td>http://www.flipkart.com/elite-collection-mediu...</td>\n",
       "      <td>Elite Collection Medium Acrylic Sticker</td>\n",
       "      <td>[\"Baby Care &gt;&gt; Baby &amp; Kids Gifts &gt;&gt; Stickers &gt;...</td>\n",
       "      <td>STIE8YSVEPPCZ42Y</td>\n",
       "      <td>1499.0</td>\n",
       "      <td>1199.0</td>\n",
       "      <td>[\"http://img5a.flixcart.com/image/sticker/4/2/...</td>\n",
       "      <td>False</td>\n",
       "      <td>Buy Elite Collection Medium Acrylic Sticker fo...</td>\n",
       "      <td>No rating available</td>\n",
       "      <td>No rating available</td>\n",
       "      <td>Elite Collection</td>\n",
       "      <td>{\"product_specification\"=&gt;[{\"key\"=&gt;\"Number of ...</td>\n",
       "    </tr>\n",
       "    <tr>\n",
       "      <th>19999</th>\n",
       "      <td>cb4fa87a874f715fff567f7b7b3be79c</td>\n",
       "      <td>2015-12-01 10:15:43 +0000</td>\n",
       "      <td>http://www.flipkart.com/elite-collection-mediu...</td>\n",
       "      <td>Elite Collection Medium Acrylic Sticker</td>\n",
       "      <td>[\"Baby Care &gt;&gt; Baby &amp; Kids Gifts &gt;&gt; Stickers &gt;...</td>\n",
       "      <td>STIE88KN9ZDSGZKY</td>\n",
       "      <td>1499.0</td>\n",
       "      <td>999.0</td>\n",
       "      <td>[\"http://img6a.flixcart.com/image/sticker/z/k/...</td>\n",
       "      <td>False</td>\n",
       "      <td>Buy Elite Collection Medium Acrylic Sticker fo...</td>\n",
       "      <td>No rating available</td>\n",
       "      <td>No rating available</td>\n",
       "      <td>Elite Collection</td>\n",
       "      <td>{\"product_specification\"=&gt;[{\"key\"=&gt;\"Number of ...</td>\n",
       "    </tr>\n",
       "  </tbody>\n",
       "</table>\n",
       "<p>20000 rows × 15 columns</p>\n",
       "</div>"
      ],
      "text/plain": [
       "                                uniq_id            crawl_timestamp  \\\n",
       "0      c2d766ca982eca8304150849735ffef9  2016-03-25 22:59:23 +0000   \n",
       "1      7f7036a6d550aaa89d34c77bd39a5e48  2016-03-25 22:59:23 +0000   \n",
       "2      f449ec65dcbc041b6ae5e6a32717d01b  2016-03-25 22:59:23 +0000   \n",
       "3      0973b37acd0c664e3de26e97e5571454  2016-03-25 22:59:23 +0000   \n",
       "4      bc940ea42ee6bef5ac7cea3fb5cfbee7  2016-03-25 22:59:23 +0000   \n",
       "...                                 ...                        ...   \n",
       "19995  7179d2f6c4ad50a17d014ca1d2815156  2015-12-01 10:15:43 +0000   \n",
       "19996  71ac419198359d37b8fe5e3fffdfee09  2015-12-01 10:15:43 +0000   \n",
       "19997  93e9d343837400ce0d7980874ece471c  2015-12-01 10:15:43 +0000   \n",
       "19998  669e79b8fa5d9ae020841c0c97d5e935  2015-12-01 10:15:43 +0000   \n",
       "19999  cb4fa87a874f715fff567f7b7b3be79c  2015-12-01 10:15:43 +0000   \n",
       "\n",
       "                                             product_url  \\\n",
       "0      http://www.flipkart.com/alisha-solid-women-s-c...   \n",
       "1      http://www.flipkart.com/fabhomedecor-fabric-do...   \n",
       "2      http://www.flipkart.com/aw-bellies/p/itmeh4grg...   \n",
       "3      http://www.flipkart.com/alisha-solid-women-s-c...   \n",
       "4      http://www.flipkart.com/sicons-all-purpose-arn...   \n",
       "...                                                  ...   \n",
       "19995  http://www.flipkart.com/walldesign-small-vinyl...   \n",
       "19996  http://www.flipkart.com/wallmantra-large-vinyl...   \n",
       "19997  http://www.flipkart.com/elite-collection-mediu...   \n",
       "19998  http://www.flipkart.com/elite-collection-mediu...   \n",
       "19999  http://www.flipkart.com/elite-collection-mediu...   \n",
       "\n",
       "                                  product_name  \\\n",
       "0          Alisha Solid Women's Cycling Shorts   \n",
       "1          FabHomeDecor Fabric Double Sofa Bed   \n",
       "2                                   AW Bellies   \n",
       "3          Alisha Solid Women's Cycling Shorts   \n",
       "4        Sicons All Purpose Arnica Dog Shampoo   \n",
       "...                                        ...   \n",
       "19995           WallDesign Small Vinyl Sticker   \n",
       "19996  Wallmantra Large Vinyl Stickers Sticker   \n",
       "19997  Elite Collection Medium Acrylic Sticker   \n",
       "19998  Elite Collection Medium Acrylic Sticker   \n",
       "19999  Elite Collection Medium Acrylic Sticker   \n",
       "\n",
       "                                   product_category_tree               pid  \\\n",
       "0      [\"Clothing >> Women's Clothing >> Lingerie, Sl...  SRTEH2FF9KEDEFGF   \n",
       "1      [\"Furniture >> Living Room Furniture >> Sofa B...  SBEEH3QGU7MFYJFY   \n",
       "2      [\"Footwear >> Women's Footwear >> Ballerinas >...  SHOEH4GRSUBJGZXE   \n",
       "3      [\"Clothing >> Women's Clothing >> Lingerie, Sl...  SRTEH2F6HUZMQ6SJ   \n",
       "4      [\"Pet Supplies >> Grooming >> Skin & Coat Care...  PSOEH3ZYDMSYARJ5   \n",
       "...                                                  ...               ...   \n",
       "19995  [\"Baby Care >> Baby & Kids Gifts >> Stickers >...  STIE7KFJAKSTDY9G   \n",
       "19996  [\"Baby Care >> Baby & Kids Gifts >> Stickers >...  STIE9F5URNQGJCGH   \n",
       "19997  [\"Baby Care >> Baby & Kids Gifts >> Stickers >...  STIE7VAYDKQZEBSD   \n",
       "19998  [\"Baby Care >> Baby & Kids Gifts >> Stickers >...  STIE8YSVEPPCZ42Y   \n",
       "19999  [\"Baby Care >> Baby & Kids Gifts >> Stickers >...  STIE88KN9ZDSGZKY   \n",
       "\n",
       "       retail_price  discounted_price  \\\n",
       "0             999.0             379.0   \n",
       "1           32157.0           22646.0   \n",
       "2             999.0             499.0   \n",
       "3             699.0             267.0   \n",
       "4             220.0             210.0   \n",
       "...             ...               ...   \n",
       "19995        1500.0             730.0   \n",
       "19996        1429.0            1143.0   \n",
       "19997        1299.0             999.0   \n",
       "19998        1499.0            1199.0   \n",
       "19999        1499.0             999.0   \n",
       "\n",
       "                                                   image  \\\n",
       "0      [\"http://img5a.flixcart.com/image/short/u/4/a/...   \n",
       "1      [\"http://img6a.flixcart.com/image/sofa-bed/j/f...   \n",
       "2      [\"http://img5a.flixcart.com/image/shoe/7/z/z/r...   \n",
       "3      [\"http://img5a.flixcart.com/image/short/6/2/h/...   \n",
       "4      [\"http://img5a.flixcart.com/image/pet-shampoo/...   \n",
       "...                                                  ...   \n",
       "19995  [\"http://img6a.flixcart.com/image/wall-decorat...   \n",
       "19996  [\"http://img6a.flixcart.com/image/sticker/z/g/...   \n",
       "19997  [\"http://img5a.flixcart.com/image/sticker/b/s/...   \n",
       "19998  [\"http://img5a.flixcart.com/image/sticker/4/2/...   \n",
       "19999  [\"http://img6a.flixcart.com/image/sticker/z/k/...   \n",
       "\n",
       "       is_FK_Advantage_product  \\\n",
       "0                        False   \n",
       "1                        False   \n",
       "2                        False   \n",
       "3                        False   \n",
       "4                        False   \n",
       "...                        ...   \n",
       "19995                    False   \n",
       "19996                    False   \n",
       "19997                    False   \n",
       "19998                    False   \n",
       "19999                    False   \n",
       "\n",
       "                                             description       product_rating  \\\n",
       "0      Key Features of Alisha Solid Women's Cycling S...  No rating available   \n",
       "1      FabHomeDecor Fabric Double Sofa Bed (Finish Co...  No rating available   \n",
       "2      Key Features of AW Bellies Sandals Wedges Heel...  No rating available   \n",
       "3      Key Features of Alisha Solid Women's Cycling S...  No rating available   \n",
       "4      Specifications of Sicons All Purpose Arnica Do...  No rating available   \n",
       "...                                                  ...                  ...   \n",
       "19995  Buy WallDesign Small Vinyl Sticker for Rs.730 ...  No rating available   \n",
       "19996  Buy Wallmantra Large Vinyl Stickers Sticker fo...  No rating available   \n",
       "19997  Buy Elite Collection Medium Acrylic Sticker fo...  No rating available   \n",
       "19998  Buy Elite Collection Medium Acrylic Sticker fo...  No rating available   \n",
       "19999  Buy Elite Collection Medium Acrylic Sticker fo...  No rating available   \n",
       "\n",
       "            overall_rating             brand  \\\n",
       "0      No rating available            Alisha   \n",
       "1      No rating available      FabHomeDecor   \n",
       "2      No rating available                AW   \n",
       "3      No rating available            Alisha   \n",
       "4      No rating available            Sicons   \n",
       "...                    ...               ...   \n",
       "19995  No rating available        WallDesign   \n",
       "19996  No rating available        Wallmantra   \n",
       "19997  No rating available  Elite Collection   \n",
       "19998  No rating available  Elite Collection   \n",
       "19999  No rating available  Elite Collection   \n",
       "\n",
       "                                  product_specifications  \n",
       "0      {\"product_specification\"=>[{\"key\"=>\"Number of ...  \n",
       "1      {\"product_specification\"=>[{\"key\"=>\"Installati...  \n",
       "2      {\"product_specification\"=>[{\"key\"=>\"Ideal For\"...  \n",
       "3      {\"product_specification\"=>[{\"key\"=>\"Number of ...  \n",
       "4      {\"product_specification\"=>[{\"key\"=>\"Pet Type\",...  \n",
       "...                                                  ...  \n",
       "19995  {\"product_specification\"=>[{\"key\"=>\"Number of ...  \n",
       "19996  {\"product_specification\"=>[{\"key\"=>\"Number of ...  \n",
       "19997  {\"product_specification\"=>[{\"key\"=>\"Number of ...  \n",
       "19998  {\"product_specification\"=>[{\"key\"=>\"Number of ...  \n",
       "19999  {\"product_specification\"=>[{\"key\"=>\"Number of ...  \n",
       "\n",
       "[20000 rows x 15 columns]"
      ]
     },
     "execution_count": 2,
     "metadata": {},
     "output_type": "execute_result"
    }
   ],
   "source": [
    "import_df = pd.read_csv(\"flipkart_com-ecommerce_sample - flipkart_com-ecommerce_sample - flipkart_com-ecommerce_sample.csv\")\n",
    "import_df"
   ]
  },
  {
   "cell_type": "code",
   "execution_count": 3,
   "id": "substantial-serbia",
   "metadata": {},
   "outputs": [
    {
     "data": {
      "text/plain": [
       "0        [\"Clothing >> Women's Clothing >> Lingerie, Sl...\n",
       "1        [\"Furniture >> Living Room Furniture >> Sofa B...\n",
       "2        [\"Footwear >> Women's Footwear >> Ballerinas >...\n",
       "3        [\"Clothing >> Women's Clothing >> Lingerie, Sl...\n",
       "4        [\"Pet Supplies >> Grooming >> Skin & Coat Care...\n",
       "                               ...                        \n",
       "19995    [\"Baby Care >> Baby & Kids Gifts >> Stickers >...\n",
       "19996    [\"Baby Care >> Baby & Kids Gifts >> Stickers >...\n",
       "19997    [\"Baby Care >> Baby & Kids Gifts >> Stickers >...\n",
       "19998    [\"Baby Care >> Baby & Kids Gifts >> Stickers >...\n",
       "19999    [\"Baby Care >> Baby & Kids Gifts >> Stickers >...\n",
       "Name: product_category_tree, Length: 20000, dtype: object"
      ]
     },
     "execution_count": 3,
     "metadata": {},
     "output_type": "execute_result"
    }
   ],
   "source": [
    "import_df['product_category_tree']"
   ]
  },
  {
   "cell_type": "markdown",
   "id": "systematic-adobe",
   "metadata": {},
   "source": [
    "#### In the 'product_category_tree', I have separated all the categories and figured out the primary category.Here, clothing,furniture etc are the primary categories which are stored again in 'product_category_tree' column "
   ]
  },
  {
   "cell_type": "code",
   "execution_count": 4,
   "id": "novel-sunrise",
   "metadata": {},
   "outputs": [
    {
     "data": {
      "text/html": [
       "<div>\n",
       "<style scoped>\n",
       "    .dataframe tbody tr th:only-of-type {\n",
       "        vertical-align: middle;\n",
       "    }\n",
       "\n",
       "    .dataframe tbody tr th {\n",
       "        vertical-align: top;\n",
       "    }\n",
       "\n",
       "    .dataframe thead th {\n",
       "        text-align: right;\n",
       "    }\n",
       "</style>\n",
       "<table border=\"1\" class=\"dataframe\">\n",
       "  <thead>\n",
       "    <tr style=\"text-align: right;\">\n",
       "      <th></th>\n",
       "      <th>uniq_id</th>\n",
       "      <th>crawl_timestamp</th>\n",
       "      <th>product_url</th>\n",
       "      <th>product_name</th>\n",
       "      <th>product_category_tree</th>\n",
       "      <th>pid</th>\n",
       "      <th>retail_price</th>\n",
       "      <th>discounted_price</th>\n",
       "      <th>image</th>\n",
       "      <th>is_FK_Advantage_product</th>\n",
       "      <th>description</th>\n",
       "      <th>product_rating</th>\n",
       "      <th>overall_rating</th>\n",
       "      <th>brand</th>\n",
       "      <th>product_specifications</th>\n",
       "    </tr>\n",
       "  </thead>\n",
       "  <tbody>\n",
       "    <tr>\n",
       "      <th>0</th>\n",
       "      <td>c2d766ca982eca8304150849735ffef9</td>\n",
       "      <td>2016-03-25 22:59:23 +0000</td>\n",
       "      <td>http://www.flipkart.com/alisha-solid-women-s-c...</td>\n",
       "      <td>Alisha Solid Women's Cycling Shorts</td>\n",
       "      <td>Clothing</td>\n",
       "      <td>SRTEH2FF9KEDEFGF</td>\n",
       "      <td>999.0</td>\n",
       "      <td>379.0</td>\n",
       "      <td>[\"http://img5a.flixcart.com/image/short/u/4/a/...</td>\n",
       "      <td>False</td>\n",
       "      <td>Key Features of Alisha Solid Women's Cycling S...</td>\n",
       "      <td>No rating available</td>\n",
       "      <td>No rating available</td>\n",
       "      <td>Alisha</td>\n",
       "      <td>{\"product_specification\"=&gt;[{\"key\"=&gt;\"Number of ...</td>\n",
       "    </tr>\n",
       "    <tr>\n",
       "      <th>1</th>\n",
       "      <td>7f7036a6d550aaa89d34c77bd39a5e48</td>\n",
       "      <td>2016-03-25 22:59:23 +0000</td>\n",
       "      <td>http://www.flipkart.com/fabhomedecor-fabric-do...</td>\n",
       "      <td>FabHomeDecor Fabric Double Sofa Bed</td>\n",
       "      <td>Furniture</td>\n",
       "      <td>SBEEH3QGU7MFYJFY</td>\n",
       "      <td>32157.0</td>\n",
       "      <td>22646.0</td>\n",
       "      <td>[\"http://img6a.flixcart.com/image/sofa-bed/j/f...</td>\n",
       "      <td>False</td>\n",
       "      <td>FabHomeDecor Fabric Double Sofa Bed (Finish Co...</td>\n",
       "      <td>No rating available</td>\n",
       "      <td>No rating available</td>\n",
       "      <td>FabHomeDecor</td>\n",
       "      <td>{\"product_specification\"=&gt;[{\"key\"=&gt;\"Installati...</td>\n",
       "    </tr>\n",
       "    <tr>\n",
       "      <th>2</th>\n",
       "      <td>f449ec65dcbc041b6ae5e6a32717d01b</td>\n",
       "      <td>2016-03-25 22:59:23 +0000</td>\n",
       "      <td>http://www.flipkart.com/aw-bellies/p/itmeh4grg...</td>\n",
       "      <td>AW Bellies</td>\n",
       "      <td>Footwear</td>\n",
       "      <td>SHOEH4GRSUBJGZXE</td>\n",
       "      <td>999.0</td>\n",
       "      <td>499.0</td>\n",
       "      <td>[\"http://img5a.flixcart.com/image/shoe/7/z/z/r...</td>\n",
       "      <td>False</td>\n",
       "      <td>Key Features of AW Bellies Sandals Wedges Heel...</td>\n",
       "      <td>No rating available</td>\n",
       "      <td>No rating available</td>\n",
       "      <td>AW</td>\n",
       "      <td>{\"product_specification\"=&gt;[{\"key\"=&gt;\"Ideal For\"...</td>\n",
       "    </tr>\n",
       "    <tr>\n",
       "      <th>3</th>\n",
       "      <td>0973b37acd0c664e3de26e97e5571454</td>\n",
       "      <td>2016-03-25 22:59:23 +0000</td>\n",
       "      <td>http://www.flipkart.com/alisha-solid-women-s-c...</td>\n",
       "      <td>Alisha Solid Women's Cycling Shorts</td>\n",
       "      <td>Clothing</td>\n",
       "      <td>SRTEH2F6HUZMQ6SJ</td>\n",
       "      <td>699.0</td>\n",
       "      <td>267.0</td>\n",
       "      <td>[\"http://img5a.flixcart.com/image/short/6/2/h/...</td>\n",
       "      <td>False</td>\n",
       "      <td>Key Features of Alisha Solid Women's Cycling S...</td>\n",
       "      <td>No rating available</td>\n",
       "      <td>No rating available</td>\n",
       "      <td>Alisha</td>\n",
       "      <td>{\"product_specification\"=&gt;[{\"key\"=&gt;\"Number of ...</td>\n",
       "    </tr>\n",
       "    <tr>\n",
       "      <th>4</th>\n",
       "      <td>bc940ea42ee6bef5ac7cea3fb5cfbee7</td>\n",
       "      <td>2016-03-25 22:59:23 +0000</td>\n",
       "      <td>http://www.flipkart.com/sicons-all-purpose-arn...</td>\n",
       "      <td>Sicons All Purpose Arnica Dog Shampoo</td>\n",
       "      <td>Pet Supplies</td>\n",
       "      <td>PSOEH3ZYDMSYARJ5</td>\n",
       "      <td>220.0</td>\n",
       "      <td>210.0</td>\n",
       "      <td>[\"http://img5a.flixcart.com/image/pet-shampoo/...</td>\n",
       "      <td>False</td>\n",
       "      <td>Specifications of Sicons All Purpose Arnica Do...</td>\n",
       "      <td>No rating available</td>\n",
       "      <td>No rating available</td>\n",
       "      <td>Sicons</td>\n",
       "      <td>{\"product_specification\"=&gt;[{\"key\"=&gt;\"Pet Type\",...</td>\n",
       "    </tr>\n",
       "    <tr>\n",
       "      <th>...</th>\n",
       "      <td>...</td>\n",
       "      <td>...</td>\n",
       "      <td>...</td>\n",
       "      <td>...</td>\n",
       "      <td>...</td>\n",
       "      <td>...</td>\n",
       "      <td>...</td>\n",
       "      <td>...</td>\n",
       "      <td>...</td>\n",
       "      <td>...</td>\n",
       "      <td>...</td>\n",
       "      <td>...</td>\n",
       "      <td>...</td>\n",
       "      <td>...</td>\n",
       "      <td>...</td>\n",
       "    </tr>\n",
       "    <tr>\n",
       "      <th>19995</th>\n",
       "      <td>7179d2f6c4ad50a17d014ca1d2815156</td>\n",
       "      <td>2015-12-01 10:15:43 +0000</td>\n",
       "      <td>http://www.flipkart.com/walldesign-small-vinyl...</td>\n",
       "      <td>WallDesign Small Vinyl Sticker</td>\n",
       "      <td>Baby Care</td>\n",
       "      <td>STIE7KFJAKSTDY9G</td>\n",
       "      <td>1500.0</td>\n",
       "      <td>730.0</td>\n",
       "      <td>[\"http://img6a.flixcart.com/image/wall-decorat...</td>\n",
       "      <td>False</td>\n",
       "      <td>Buy WallDesign Small Vinyl Sticker for Rs.730 ...</td>\n",
       "      <td>No rating available</td>\n",
       "      <td>No rating available</td>\n",
       "      <td>WallDesign</td>\n",
       "      <td>{\"product_specification\"=&gt;[{\"key\"=&gt;\"Number of ...</td>\n",
       "    </tr>\n",
       "    <tr>\n",
       "      <th>19996</th>\n",
       "      <td>71ac419198359d37b8fe5e3fffdfee09</td>\n",
       "      <td>2015-12-01 10:15:43 +0000</td>\n",
       "      <td>http://www.flipkart.com/wallmantra-large-vinyl...</td>\n",
       "      <td>Wallmantra Large Vinyl Stickers Sticker</td>\n",
       "      <td>Baby Care</td>\n",
       "      <td>STIE9F5URNQGJCGH</td>\n",
       "      <td>1429.0</td>\n",
       "      <td>1143.0</td>\n",
       "      <td>[\"http://img6a.flixcart.com/image/sticker/z/g/...</td>\n",
       "      <td>False</td>\n",
       "      <td>Buy Wallmantra Large Vinyl Stickers Sticker fo...</td>\n",
       "      <td>No rating available</td>\n",
       "      <td>No rating available</td>\n",
       "      <td>Wallmantra</td>\n",
       "      <td>{\"product_specification\"=&gt;[{\"key\"=&gt;\"Number of ...</td>\n",
       "    </tr>\n",
       "    <tr>\n",
       "      <th>19997</th>\n",
       "      <td>93e9d343837400ce0d7980874ece471c</td>\n",
       "      <td>2015-12-01 10:15:43 +0000</td>\n",
       "      <td>http://www.flipkart.com/elite-collection-mediu...</td>\n",
       "      <td>Elite Collection Medium Acrylic Sticker</td>\n",
       "      <td>Baby Care</td>\n",
       "      <td>STIE7VAYDKQZEBSD</td>\n",
       "      <td>1299.0</td>\n",
       "      <td>999.0</td>\n",
       "      <td>[\"http://img5a.flixcart.com/image/sticker/b/s/...</td>\n",
       "      <td>False</td>\n",
       "      <td>Buy Elite Collection Medium Acrylic Sticker fo...</td>\n",
       "      <td>No rating available</td>\n",
       "      <td>No rating available</td>\n",
       "      <td>Elite Collection</td>\n",
       "      <td>{\"product_specification\"=&gt;[{\"key\"=&gt;\"Number of ...</td>\n",
       "    </tr>\n",
       "    <tr>\n",
       "      <th>19998</th>\n",
       "      <td>669e79b8fa5d9ae020841c0c97d5e935</td>\n",
       "      <td>2015-12-01 10:15:43 +0000</td>\n",
       "      <td>http://www.flipkart.com/elite-collection-mediu...</td>\n",
       "      <td>Elite Collection Medium Acrylic Sticker</td>\n",
       "      <td>Baby Care</td>\n",
       "      <td>STIE8YSVEPPCZ42Y</td>\n",
       "      <td>1499.0</td>\n",
       "      <td>1199.0</td>\n",
       "      <td>[\"http://img5a.flixcart.com/image/sticker/4/2/...</td>\n",
       "      <td>False</td>\n",
       "      <td>Buy Elite Collection Medium Acrylic Sticker fo...</td>\n",
       "      <td>No rating available</td>\n",
       "      <td>No rating available</td>\n",
       "      <td>Elite Collection</td>\n",
       "      <td>{\"product_specification\"=&gt;[{\"key\"=&gt;\"Number of ...</td>\n",
       "    </tr>\n",
       "    <tr>\n",
       "      <th>19999</th>\n",
       "      <td>cb4fa87a874f715fff567f7b7b3be79c</td>\n",
       "      <td>2015-12-01 10:15:43 +0000</td>\n",
       "      <td>http://www.flipkart.com/elite-collection-mediu...</td>\n",
       "      <td>Elite Collection Medium Acrylic Sticker</td>\n",
       "      <td>Baby Care</td>\n",
       "      <td>STIE88KN9ZDSGZKY</td>\n",
       "      <td>1499.0</td>\n",
       "      <td>999.0</td>\n",
       "      <td>[\"http://img6a.flixcart.com/image/sticker/z/k/...</td>\n",
       "      <td>False</td>\n",
       "      <td>Buy Elite Collection Medium Acrylic Sticker fo...</td>\n",
       "      <td>No rating available</td>\n",
       "      <td>No rating available</td>\n",
       "      <td>Elite Collection</td>\n",
       "      <td>{\"product_specification\"=&gt;[{\"key\"=&gt;\"Number of ...</td>\n",
       "    </tr>\n",
       "  </tbody>\n",
       "</table>\n",
       "<p>20000 rows × 15 columns</p>\n",
       "</div>"
      ],
      "text/plain": [
       "                                uniq_id            crawl_timestamp  \\\n",
       "0      c2d766ca982eca8304150849735ffef9  2016-03-25 22:59:23 +0000   \n",
       "1      7f7036a6d550aaa89d34c77bd39a5e48  2016-03-25 22:59:23 +0000   \n",
       "2      f449ec65dcbc041b6ae5e6a32717d01b  2016-03-25 22:59:23 +0000   \n",
       "3      0973b37acd0c664e3de26e97e5571454  2016-03-25 22:59:23 +0000   \n",
       "4      bc940ea42ee6bef5ac7cea3fb5cfbee7  2016-03-25 22:59:23 +0000   \n",
       "...                                 ...                        ...   \n",
       "19995  7179d2f6c4ad50a17d014ca1d2815156  2015-12-01 10:15:43 +0000   \n",
       "19996  71ac419198359d37b8fe5e3fffdfee09  2015-12-01 10:15:43 +0000   \n",
       "19997  93e9d343837400ce0d7980874ece471c  2015-12-01 10:15:43 +0000   \n",
       "19998  669e79b8fa5d9ae020841c0c97d5e935  2015-12-01 10:15:43 +0000   \n",
       "19999  cb4fa87a874f715fff567f7b7b3be79c  2015-12-01 10:15:43 +0000   \n",
       "\n",
       "                                             product_url  \\\n",
       "0      http://www.flipkart.com/alisha-solid-women-s-c...   \n",
       "1      http://www.flipkart.com/fabhomedecor-fabric-do...   \n",
       "2      http://www.flipkart.com/aw-bellies/p/itmeh4grg...   \n",
       "3      http://www.flipkart.com/alisha-solid-women-s-c...   \n",
       "4      http://www.flipkart.com/sicons-all-purpose-arn...   \n",
       "...                                                  ...   \n",
       "19995  http://www.flipkart.com/walldesign-small-vinyl...   \n",
       "19996  http://www.flipkart.com/wallmantra-large-vinyl...   \n",
       "19997  http://www.flipkart.com/elite-collection-mediu...   \n",
       "19998  http://www.flipkart.com/elite-collection-mediu...   \n",
       "19999  http://www.flipkart.com/elite-collection-mediu...   \n",
       "\n",
       "                                  product_name product_category_tree  \\\n",
       "0          Alisha Solid Women's Cycling Shorts              Clothing   \n",
       "1          FabHomeDecor Fabric Double Sofa Bed             Furniture   \n",
       "2                                   AW Bellies              Footwear   \n",
       "3          Alisha Solid Women's Cycling Shorts              Clothing   \n",
       "4        Sicons All Purpose Arnica Dog Shampoo          Pet Supplies   \n",
       "...                                        ...                   ...   \n",
       "19995           WallDesign Small Vinyl Sticker             Baby Care   \n",
       "19996  Wallmantra Large Vinyl Stickers Sticker             Baby Care   \n",
       "19997  Elite Collection Medium Acrylic Sticker             Baby Care   \n",
       "19998  Elite Collection Medium Acrylic Sticker             Baby Care   \n",
       "19999  Elite Collection Medium Acrylic Sticker             Baby Care   \n",
       "\n",
       "                    pid  retail_price  discounted_price  \\\n",
       "0      SRTEH2FF9KEDEFGF         999.0             379.0   \n",
       "1      SBEEH3QGU7MFYJFY       32157.0           22646.0   \n",
       "2      SHOEH4GRSUBJGZXE         999.0             499.0   \n",
       "3      SRTEH2F6HUZMQ6SJ         699.0             267.0   \n",
       "4      PSOEH3ZYDMSYARJ5         220.0             210.0   \n",
       "...                 ...           ...               ...   \n",
       "19995  STIE7KFJAKSTDY9G        1500.0             730.0   \n",
       "19996  STIE9F5URNQGJCGH        1429.0            1143.0   \n",
       "19997  STIE7VAYDKQZEBSD        1299.0             999.0   \n",
       "19998  STIE8YSVEPPCZ42Y        1499.0            1199.0   \n",
       "19999  STIE88KN9ZDSGZKY        1499.0             999.0   \n",
       "\n",
       "                                                   image  \\\n",
       "0      [\"http://img5a.flixcart.com/image/short/u/4/a/...   \n",
       "1      [\"http://img6a.flixcart.com/image/sofa-bed/j/f...   \n",
       "2      [\"http://img5a.flixcart.com/image/shoe/7/z/z/r...   \n",
       "3      [\"http://img5a.flixcart.com/image/short/6/2/h/...   \n",
       "4      [\"http://img5a.flixcart.com/image/pet-shampoo/...   \n",
       "...                                                  ...   \n",
       "19995  [\"http://img6a.flixcart.com/image/wall-decorat...   \n",
       "19996  [\"http://img6a.flixcart.com/image/sticker/z/g/...   \n",
       "19997  [\"http://img5a.flixcart.com/image/sticker/b/s/...   \n",
       "19998  [\"http://img5a.flixcart.com/image/sticker/4/2/...   \n",
       "19999  [\"http://img6a.flixcart.com/image/sticker/z/k/...   \n",
       "\n",
       "       is_FK_Advantage_product  \\\n",
       "0                        False   \n",
       "1                        False   \n",
       "2                        False   \n",
       "3                        False   \n",
       "4                        False   \n",
       "...                        ...   \n",
       "19995                    False   \n",
       "19996                    False   \n",
       "19997                    False   \n",
       "19998                    False   \n",
       "19999                    False   \n",
       "\n",
       "                                             description       product_rating  \\\n",
       "0      Key Features of Alisha Solid Women's Cycling S...  No rating available   \n",
       "1      FabHomeDecor Fabric Double Sofa Bed (Finish Co...  No rating available   \n",
       "2      Key Features of AW Bellies Sandals Wedges Heel...  No rating available   \n",
       "3      Key Features of Alisha Solid Women's Cycling S...  No rating available   \n",
       "4      Specifications of Sicons All Purpose Arnica Do...  No rating available   \n",
       "...                                                  ...                  ...   \n",
       "19995  Buy WallDesign Small Vinyl Sticker for Rs.730 ...  No rating available   \n",
       "19996  Buy Wallmantra Large Vinyl Stickers Sticker fo...  No rating available   \n",
       "19997  Buy Elite Collection Medium Acrylic Sticker fo...  No rating available   \n",
       "19998  Buy Elite Collection Medium Acrylic Sticker fo...  No rating available   \n",
       "19999  Buy Elite Collection Medium Acrylic Sticker fo...  No rating available   \n",
       "\n",
       "            overall_rating             brand  \\\n",
       "0      No rating available            Alisha   \n",
       "1      No rating available      FabHomeDecor   \n",
       "2      No rating available                AW   \n",
       "3      No rating available            Alisha   \n",
       "4      No rating available            Sicons   \n",
       "...                    ...               ...   \n",
       "19995  No rating available        WallDesign   \n",
       "19996  No rating available        Wallmantra   \n",
       "19997  No rating available  Elite Collection   \n",
       "19998  No rating available  Elite Collection   \n",
       "19999  No rating available  Elite Collection   \n",
       "\n",
       "                                  product_specifications  \n",
       "0      {\"product_specification\"=>[{\"key\"=>\"Number of ...  \n",
       "1      {\"product_specification\"=>[{\"key\"=>\"Installati...  \n",
       "2      {\"product_specification\"=>[{\"key\"=>\"Ideal For\"...  \n",
       "3      {\"product_specification\"=>[{\"key\"=>\"Number of ...  \n",
       "4      {\"product_specification\"=>[{\"key\"=>\"Pet Type\",...  \n",
       "...                                                  ...  \n",
       "19995  {\"product_specification\"=>[{\"key\"=>\"Number of ...  \n",
       "19996  {\"product_specification\"=>[{\"key\"=>\"Number of ...  \n",
       "19997  {\"product_specification\"=>[{\"key\"=>\"Number of ...  \n",
       "19998  {\"product_specification\"=>[{\"key\"=>\"Number of ...  \n",
       "19999  {\"product_specification\"=>[{\"key\"=>\"Number of ...  \n",
       "\n",
       "[20000 rows x 15 columns]"
      ]
     },
     "execution_count": 4,
     "metadata": {},
     "output_type": "execute_result"
    }
   ],
   "source": [
    "import_df['product_category_tree'] = import_df['product_category_tree'].apply(lambda x : x.split('>>')[0][2:].strip())\n",
    "import_df"
   ]
  },
  {
   "cell_type": "markdown",
   "id": "assured-material",
   "metadata": {},
   "source": [
    "#### Listing top five categories"
   ]
  },
  {
   "cell_type": "code",
   "execution_count": 5,
   "id": "floppy-interface",
   "metadata": {},
   "outputs": [
    {
     "data": {
      "text/plain": [
       "['Clothing', 'Jewellery', 'Footwear', 'Mobiles & Accessories', 'Automotive']"
      ]
     },
     "execution_count": 5,
     "metadata": {},
     "output_type": "execute_result"
    }
   ],
   "source": [
    "top_five_category = list(import_df.groupby('product_category_tree').count().sort_values(by='uniq_id',ascending=False).head(5).index)\n",
    "top_five_category"
   ]
  },
  {
   "cell_type": "markdown",
   "id": "organizational-grade",
   "metadata": {},
   "source": [
    "## Data Cleaning"
   ]
  },
  {
   "cell_type": "markdown",
   "id": "residential-junior",
   "metadata": {},
   "source": [
    "#### Creating a new dataframe ,'processed_df' which contains top five categories and its corresponding description."
   ]
  },
  {
   "cell_type": "code",
   "execution_count": 6,
   "id": "spatial-colorado",
   "metadata": {},
   "outputs": [
    {
     "data": {
      "text/html": [
       "<div>\n",
       "<style scoped>\n",
       "    .dataframe tbody tr th:only-of-type {\n",
       "        vertical-align: middle;\n",
       "    }\n",
       "\n",
       "    .dataframe tbody tr th {\n",
       "        vertical-align: top;\n",
       "    }\n",
       "\n",
       "    .dataframe thead th {\n",
       "        text-align: right;\n",
       "    }\n",
       "</style>\n",
       "<table border=\"1\" class=\"dataframe\">\n",
       "  <thead>\n",
       "    <tr style=\"text-align: right;\">\n",
       "      <th></th>\n",
       "      <th>description</th>\n",
       "      <th>product_category_tree</th>\n",
       "    </tr>\n",
       "  </thead>\n",
       "  <tbody>\n",
       "    <tr>\n",
       "      <th>0</th>\n",
       "      <td>Key Features of Alisha Solid Women's Cycling S...</td>\n",
       "      <td>Clothing</td>\n",
       "    </tr>\n",
       "    <tr>\n",
       "      <th>2</th>\n",
       "      <td>Key Features of AW Bellies Sandals Wedges Heel...</td>\n",
       "      <td>Footwear</td>\n",
       "    </tr>\n",
       "    <tr>\n",
       "      <th>3</th>\n",
       "      <td>Key Features of Alisha Solid Women's Cycling S...</td>\n",
       "      <td>Clothing</td>\n",
       "    </tr>\n",
       "    <tr>\n",
       "      <th>6</th>\n",
       "      <td>Key Features of Alisha Solid Women's Cycling S...</td>\n",
       "      <td>Clothing</td>\n",
       "    </tr>\n",
       "    <tr>\n",
       "      <th>8</th>\n",
       "      <td>Key Features of dilli bazaaar Bellies, Corpora...</td>\n",
       "      <td>Footwear</td>\n",
       "    </tr>\n",
       "    <tr>\n",
       "      <th>...</th>\n",
       "      <td>...</td>\n",
       "      <td>...</td>\n",
       "    </tr>\n",
       "    <tr>\n",
       "      <th>19936</th>\n",
       "      <td>Flipkart.com: Buy Purple Women Heels only for ...</td>\n",
       "      <td>Footwear</td>\n",
       "    </tr>\n",
       "    <tr>\n",
       "      <th>19941</th>\n",
       "      <td>Flipkart.com: Buy Pinq Chiq Women Heels only f...</td>\n",
       "      <td>Footwear</td>\n",
       "    </tr>\n",
       "    <tr>\n",
       "      <th>19953</th>\n",
       "      <td>Flipkart.com: Buy La Isla Women Heels only for...</td>\n",
       "      <td>Footwear</td>\n",
       "    </tr>\n",
       "    <tr>\n",
       "      <th>19958</th>\n",
       "      <td>Flipkart.com: Buy We Witches Comfy Hues Women ...</td>\n",
       "      <td>Footwear</td>\n",
       "    </tr>\n",
       "    <tr>\n",
       "      <th>19962</th>\n",
       "      <td>Flipkart.com: Buy Stylistry Women Heels only f...</td>\n",
       "      <td>Footwear</td>\n",
       "    </tr>\n",
       "  </tbody>\n",
       "</table>\n",
       "<p>13067 rows × 2 columns</p>\n",
       "</div>"
      ],
      "text/plain": [
       "                                             description product_category_tree\n",
       "0      Key Features of Alisha Solid Women's Cycling S...              Clothing\n",
       "2      Key Features of AW Bellies Sandals Wedges Heel...              Footwear\n",
       "3      Key Features of Alisha Solid Women's Cycling S...              Clothing\n",
       "6      Key Features of Alisha Solid Women's Cycling S...              Clothing\n",
       "8      Key Features of dilli bazaaar Bellies, Corpora...              Footwear\n",
       "...                                                  ...                   ...\n",
       "19936  Flipkart.com: Buy Purple Women Heels only for ...              Footwear\n",
       "19941  Flipkart.com: Buy Pinq Chiq Women Heels only f...              Footwear\n",
       "19953  Flipkart.com: Buy La Isla Women Heels only for...              Footwear\n",
       "19958  Flipkart.com: Buy We Witches Comfy Hues Women ...              Footwear\n",
       "19962  Flipkart.com: Buy Stylistry Women Heels only f...              Footwear\n",
       "\n",
       "[13067 rows x 2 columns]"
      ]
     },
     "execution_count": 6,
     "metadata": {},
     "output_type": "execute_result"
    }
   ],
   "source": [
    "processed_df= import_df[import_df['product_category_tree'].isin(top_five_category)][['description','product_category_tree']]\n",
    "processed_df"
   ]
  },
  {
   "cell_type": "markdown",
   "id": "offshore-relations",
   "metadata": {},
   "source": [
    "####  Creating another dataframe 'processed_df1'  which is same as 'processed_df' for data visualization."
   ]
  },
  {
   "cell_type": "code",
   "execution_count": 7,
   "id": "chemical-generation",
   "metadata": {},
   "outputs": [
    {
     "data": {
      "text/html": [
       "<div>\n",
       "<style scoped>\n",
       "    .dataframe tbody tr th:only-of-type {\n",
       "        vertical-align: middle;\n",
       "    }\n",
       "\n",
       "    .dataframe tbody tr th {\n",
       "        vertical-align: top;\n",
       "    }\n",
       "\n",
       "    .dataframe thead th {\n",
       "        text-align: right;\n",
       "    }\n",
       "</style>\n",
       "<table border=\"1\" class=\"dataframe\">\n",
       "  <thead>\n",
       "    <tr style=\"text-align: right;\">\n",
       "      <th></th>\n",
       "      <th>description</th>\n",
       "      <th>product_category_tree</th>\n",
       "    </tr>\n",
       "  </thead>\n",
       "  <tbody>\n",
       "    <tr>\n",
       "      <th>0</th>\n",
       "      <td>Key Features of Alisha Solid Women's Cycling S...</td>\n",
       "      <td>Clothing</td>\n",
       "    </tr>\n",
       "    <tr>\n",
       "      <th>2</th>\n",
       "      <td>Key Features of AW Bellies Sandals Wedges Heel...</td>\n",
       "      <td>Footwear</td>\n",
       "    </tr>\n",
       "    <tr>\n",
       "      <th>3</th>\n",
       "      <td>Key Features of Alisha Solid Women's Cycling S...</td>\n",
       "      <td>Clothing</td>\n",
       "    </tr>\n",
       "    <tr>\n",
       "      <th>6</th>\n",
       "      <td>Key Features of Alisha Solid Women's Cycling S...</td>\n",
       "      <td>Clothing</td>\n",
       "    </tr>\n",
       "    <tr>\n",
       "      <th>8</th>\n",
       "      <td>Key Features of dilli bazaaar Bellies, Corpora...</td>\n",
       "      <td>Footwear</td>\n",
       "    </tr>\n",
       "    <tr>\n",
       "      <th>...</th>\n",
       "      <td>...</td>\n",
       "      <td>...</td>\n",
       "    </tr>\n",
       "    <tr>\n",
       "      <th>19936</th>\n",
       "      <td>Flipkart.com: Buy Purple Women Heels only for ...</td>\n",
       "      <td>Footwear</td>\n",
       "    </tr>\n",
       "    <tr>\n",
       "      <th>19941</th>\n",
       "      <td>Flipkart.com: Buy Pinq Chiq Women Heels only f...</td>\n",
       "      <td>Footwear</td>\n",
       "    </tr>\n",
       "    <tr>\n",
       "      <th>19953</th>\n",
       "      <td>Flipkart.com: Buy La Isla Women Heels only for...</td>\n",
       "      <td>Footwear</td>\n",
       "    </tr>\n",
       "    <tr>\n",
       "      <th>19958</th>\n",
       "      <td>Flipkart.com: Buy We Witches Comfy Hues Women ...</td>\n",
       "      <td>Footwear</td>\n",
       "    </tr>\n",
       "    <tr>\n",
       "      <th>19962</th>\n",
       "      <td>Flipkart.com: Buy Stylistry Women Heels only f...</td>\n",
       "      <td>Footwear</td>\n",
       "    </tr>\n",
       "  </tbody>\n",
       "</table>\n",
       "<p>13067 rows × 2 columns</p>\n",
       "</div>"
      ],
      "text/plain": [
       "                                             description product_category_tree\n",
       "0      Key Features of Alisha Solid Women's Cycling S...              Clothing\n",
       "2      Key Features of AW Bellies Sandals Wedges Heel...              Footwear\n",
       "3      Key Features of Alisha Solid Women's Cycling S...              Clothing\n",
       "6      Key Features of Alisha Solid Women's Cycling S...              Clothing\n",
       "8      Key Features of dilli bazaaar Bellies, Corpora...              Footwear\n",
       "...                                                  ...                   ...\n",
       "19936  Flipkart.com: Buy Purple Women Heels only for ...              Footwear\n",
       "19941  Flipkart.com: Buy Pinq Chiq Women Heels only f...              Footwear\n",
       "19953  Flipkart.com: Buy La Isla Women Heels only for...              Footwear\n",
       "19958  Flipkart.com: Buy We Witches Comfy Hues Women ...              Footwear\n",
       "19962  Flipkart.com: Buy Stylistry Women Heels only f...              Footwear\n",
       "\n",
       "[13067 rows x 2 columns]"
      ]
     },
     "execution_count": 7,
     "metadata": {},
     "output_type": "execute_result"
    }
   ],
   "source": [
    "processed_df1= import_df[import_df['product_category_tree'].isin(top_five_category)][['description','product_category_tree']]\n",
    "processed_df1"
   ]
  },
  {
   "cell_type": "markdown",
   "id": "economic-relevance",
   "metadata": {},
   "source": [
    "#### Any data or information stored within a Python variable has a type. The type of data stored within a variable can be checked using the type function.\n",
    "\n",
    "#### Here, the type of main data frame 'processed_df' and type of attribute 'description' is shown."
   ]
  },
  {
   "cell_type": "code",
   "execution_count": 8,
   "id": "southeast-moses",
   "metadata": {},
   "outputs": [
    {
     "data": {
      "text/plain": [
       "pandas.core.frame.DataFrame"
      ]
     },
     "execution_count": 8,
     "metadata": {},
     "output_type": "execute_result"
    }
   ],
   "source": [
    "type(processed_df)"
   ]
  },
  {
   "cell_type": "code",
   "execution_count": 9,
   "id": "immune-syracuse",
   "metadata": {},
   "outputs": [
    {
     "data": {
      "text/plain": [
       "str"
      ]
     },
     "execution_count": 9,
     "metadata": {},
     "output_type": "execute_result"
    }
   ],
   "source": [
    "type('description')"
   ]
  },
  {
   "cell_type": "markdown",
   "id": "laughing-power",
   "metadata": {},
   "source": [
    "####  The Shape method is used to retrieve the number of rows and columns as a tuple in the data frame."
   ]
  },
  {
   "cell_type": "code",
   "execution_count": 10,
   "id": "useful-saver",
   "metadata": {},
   "outputs": [
    {
     "data": {
      "text/plain": [
       "(13067, 2)"
      ]
     },
     "execution_count": 10,
     "metadata": {},
     "output_type": "execute_result"
    }
   ],
   "source": [
    "processed_df.shape"
   ]
  },
  {
   "cell_type": "markdown",
   "id": "brave-cigarette",
   "metadata": {},
   "source": [
    "#### The columns property gets the list of columns within the specified data frame."
   ]
  },
  {
   "cell_type": "code",
   "execution_count": 11,
   "id": "hired-triangle",
   "metadata": {},
   "outputs": [
    {
     "data": {
      "text/plain": [
       "Index(['description', 'product_category_tree'], dtype='object')"
      ]
     },
     "execution_count": 11,
     "metadata": {},
     "output_type": "execute_result"
    }
   ],
   "source": [
    "processed_df.columns"
   ]
  },
  {
   "cell_type": "markdown",
   "id": "narrative-webster",
   "metadata": {},
   "source": [
    "#### The info method views some basic information about the data frame."
   ]
  },
  {
   "cell_type": "code",
   "execution_count": 12,
   "id": "junior-jason",
   "metadata": {},
   "outputs": [
    {
     "name": "stdout",
     "output_type": "stream",
     "text": [
      "<class 'pandas.core.frame.DataFrame'>\n",
      "Int64Index: 13067 entries, 0 to 19962\n",
      "Data columns (total 2 columns):\n",
      " #   Column                 Non-Null Count  Dtype \n",
      "---  ------                 --------------  ----- \n",
      " 0   description            13066 non-null  object\n",
      " 1   product_category_tree  13067 non-null  object\n",
      "dtypes: object(2)\n",
      "memory usage: 306.3+ KB\n"
     ]
    }
   ],
   "source": [
    "processed_df.info()"
   ]
  },
  {
   "cell_type": "markdown",
   "id": "occupational-weekly",
   "metadata": {},
   "source": [
    "#### The describe method can view the some statistical information like count, unique ,frequency ,top,mean,standard deviation, minimum/maximum values and number of non-empty values."
   ]
  },
  {
   "cell_type": "code",
   "execution_count": 13,
   "id": "union-render",
   "metadata": {},
   "outputs": [
    {
     "data": {
      "text/html": [
       "<div>\n",
       "<style scoped>\n",
       "    .dataframe tbody tr th:only-of-type {\n",
       "        vertical-align: middle;\n",
       "    }\n",
       "\n",
       "    .dataframe tbody tr th {\n",
       "        vertical-align: top;\n",
       "    }\n",
       "\n",
       "    .dataframe thead th {\n",
       "        text-align: right;\n",
       "    }\n",
       "</style>\n",
       "<table border=\"1\" class=\"dataframe\">\n",
       "  <thead>\n",
       "    <tr style=\"text-align: right;\">\n",
       "      <th></th>\n",
       "      <th>description</th>\n",
       "      <th>product_category_tree</th>\n",
       "    </tr>\n",
       "  </thead>\n",
       "  <tbody>\n",
       "    <tr>\n",
       "      <th>count</th>\n",
       "      <td>13066</td>\n",
       "      <td>13067</td>\n",
       "    </tr>\n",
       "    <tr>\n",
       "      <th>unique</th>\n",
       "      <td>11174</td>\n",
       "      <td>5</td>\n",
       "    </tr>\n",
       "    <tr>\n",
       "      <th>top</th>\n",
       "      <td>TheLostPuppy Back Cover for Apple iPad Air (Mu...</td>\n",
       "      <td>Clothing</td>\n",
       "    </tr>\n",
       "    <tr>\n",
       "      <th>freq</th>\n",
       "      <td>92</td>\n",
       "      <td>6198</td>\n",
       "    </tr>\n",
       "  </tbody>\n",
       "</table>\n",
       "</div>"
      ],
      "text/plain": [
       "                                              description  \\\n",
       "count                                               13066   \n",
       "unique                                              11174   \n",
       "top     TheLostPuppy Back Cover for Apple iPad Air (Mu...   \n",
       "freq                                                   92   \n",
       "\n",
       "       product_category_tree  \n",
       "count                  13067  \n",
       "unique                     5  \n",
       "top                 Clothing  \n",
       "freq                    6198  "
      ]
     },
     "execution_count": 13,
     "metadata": {},
     "output_type": "execute_result"
    }
   ],
   "source": [
    "processed_df.describe()"
   ]
  },
  {
   "cell_type": "markdown",
   "id": "included-definition",
   "metadata": {},
   "source": [
    "## Data Processing"
   ]
  },
  {
   "cell_type": "markdown",
   "id": "leading-traffic",
   "metadata": {},
   "source": [
    "#### 'preprocess_string' function cleans the input string  step by step in the below mentioned ways.\n",
    "####  input:   str_arg --> Takes string to clean\n",
    "####  output: cleaned_str --> returns back preprocessed string"
   ]
  },
  {
   "cell_type": "code",
   "execution_count": 14,
   "id": "gorgeous-affairs",
   "metadata": {},
   "outputs": [],
   "source": [
    "def preprocess_string(str_arg):\n",
    "    cleaned_str = re.sub('[^a-z\\s]+' , ' ' , str_arg,flags = re.IGNORECASE)#every character except alphabets are replaced by a single space\n",
    "    cleaned_str = re.sub('(\\s+)' , ' ', cleaned_str)  #multiple spaces are replaced by single space\n",
    "    cleaned_str = cleaned_str.lower()   #converting the resultant string to lower case\n",
    "    \n",
    "    return cleaned_str     #Returning the preprocessed string in tokenized form"
   ]
  },
  {
   "cell_type": "markdown",
   "id": "crucial-reporter",
   "metadata": {},
   "source": [
    "#### apply() method takes a function as an input and apply this function to an entire dataframe.\n",
    "\n",
    "\n",
    "#### Here, 'description' column of main dataframe i.e, 'processed_df' is converted to str type at first and then 'preprocess_string'  function is applied on it."
   ]
  },
  {
   "cell_type": "code",
   "execution_count": 15,
   "id": "spoken-forth",
   "metadata": {},
   "outputs": [
    {
     "data": {
      "text/html": [
       "<div>\n",
       "<style scoped>\n",
       "    .dataframe tbody tr th:only-of-type {\n",
       "        vertical-align: middle;\n",
       "    }\n",
       "\n",
       "    .dataframe tbody tr th {\n",
       "        vertical-align: top;\n",
       "    }\n",
       "\n",
       "    .dataframe thead th {\n",
       "        text-align: right;\n",
       "    }\n",
       "</style>\n",
       "<table border=\"1\" class=\"dataframe\">\n",
       "  <thead>\n",
       "    <tr style=\"text-align: right;\">\n",
       "      <th></th>\n",
       "      <th>description</th>\n",
       "      <th>product_category_tree</th>\n",
       "    </tr>\n",
       "  </thead>\n",
       "  <tbody>\n",
       "    <tr>\n",
       "      <th>0</th>\n",
       "      <td>key features of alisha solid women s cycling s...</td>\n",
       "      <td>Clothing</td>\n",
       "    </tr>\n",
       "    <tr>\n",
       "      <th>2</th>\n",
       "      <td>key features of aw bellies sandals wedges heel...</td>\n",
       "      <td>Footwear</td>\n",
       "    </tr>\n",
       "    <tr>\n",
       "      <th>3</th>\n",
       "      <td>key features of alisha solid women s cycling s...</td>\n",
       "      <td>Clothing</td>\n",
       "    </tr>\n",
       "    <tr>\n",
       "      <th>6</th>\n",
       "      <td>key features of alisha solid women s cycling s...</td>\n",
       "      <td>Clothing</td>\n",
       "    </tr>\n",
       "    <tr>\n",
       "      <th>8</th>\n",
       "      <td>key features of dilli bazaaar bellies corporat...</td>\n",
       "      <td>Footwear</td>\n",
       "    </tr>\n",
       "    <tr>\n",
       "      <th>...</th>\n",
       "      <td>...</td>\n",
       "      <td>...</td>\n",
       "    </tr>\n",
       "    <tr>\n",
       "      <th>19936</th>\n",
       "      <td>flipkart com buy purple women heels only for r...</td>\n",
       "      <td>Footwear</td>\n",
       "    </tr>\n",
       "    <tr>\n",
       "      <th>19941</th>\n",
       "      <td>flipkart com buy pinq chiq women heels only fo...</td>\n",
       "      <td>Footwear</td>\n",
       "    </tr>\n",
       "    <tr>\n",
       "      <th>19953</th>\n",
       "      <td>flipkart com buy la isla women heels only for ...</td>\n",
       "      <td>Footwear</td>\n",
       "    </tr>\n",
       "    <tr>\n",
       "      <th>19958</th>\n",
       "      <td>flipkart com buy we witches comfy hues women w...</td>\n",
       "      <td>Footwear</td>\n",
       "    </tr>\n",
       "    <tr>\n",
       "      <th>19962</th>\n",
       "      <td>flipkart com buy stylistry women heels only fo...</td>\n",
       "      <td>Footwear</td>\n",
       "    </tr>\n",
       "  </tbody>\n",
       "</table>\n",
       "<p>13067 rows × 2 columns</p>\n",
       "</div>"
      ],
      "text/plain": [
       "                                             description product_category_tree\n",
       "0      key features of alisha solid women s cycling s...              Clothing\n",
       "2      key features of aw bellies sandals wedges heel...              Footwear\n",
       "3      key features of alisha solid women s cycling s...              Clothing\n",
       "6      key features of alisha solid women s cycling s...              Clothing\n",
       "8      key features of dilli bazaaar bellies corporat...              Footwear\n",
       "...                                                  ...                   ...\n",
       "19936  flipkart com buy purple women heels only for r...              Footwear\n",
       "19941  flipkart com buy pinq chiq women heels only fo...              Footwear\n",
       "19953  flipkart com buy la isla women heels only for ...              Footwear\n",
       "19958  flipkart com buy we witches comfy hues women w...              Footwear\n",
       "19962  flipkart com buy stylistry women heels only fo...              Footwear\n",
       "\n",
       "[13067 rows x 2 columns]"
      ]
     },
     "execution_count": 15,
     "metadata": {},
     "output_type": "execute_result"
    }
   ],
   "source": [
    "#cleaning strings\n",
    "processed_df['description'] = processed_df['description'].astype('str').apply(preprocess_string) \n",
    "processed_df"
   ]
  },
  {
   "cell_type": "markdown",
   "id": "fresh-strike",
   "metadata": {},
   "source": [
    "#### creating a list of unique product categories using unique() method."
   ]
  },
  {
   "cell_type": "code",
   "execution_count": 16,
   "id": "arabic-wings",
   "metadata": {},
   "outputs": [
    {
     "data": {
      "text/plain": [
       "['Clothing', 'Footwear', 'Automotive', 'Mobiles & Accessories', 'Jewellery']"
      ]
     },
     "execution_count": 16,
     "metadata": {},
     "output_type": "execute_result"
    }
   ],
   "source": [
    "category_list = list(processed_df['product_category_tree'].unique())\n",
    "category_list"
   ]
  },
  {
   "cell_type": "markdown",
   "id": "engaged-muslim",
   "metadata": {},
   "source": [
    "#### This is an important pre-processing step for the structured dataset in supervised learning.\n",
    "\n",
    "#### LABEL ENCODING: It refers to converting the labels into numeric form so as to convert it into the machine-readable form. "
   ]
  },
  {
   "cell_type": "code",
   "execution_count": 17,
   "id": "enclosed-onion",
   "metadata": {
    "scrolled": true
   },
   "outputs": [
    {
     "data": {
      "text/plain": [
       "0        1\n",
       "2        2\n",
       "3        1\n",
       "6        1\n",
       "8        2\n",
       "        ..\n",
       "19936    2\n",
       "19941    2\n",
       "19953    2\n",
       "19958    2\n",
       "19962    2\n",
       "Name: product_category_tree, Length: 13067, dtype: int32"
      ]
     },
     "execution_count": 17,
     "metadata": {},
     "output_type": "execute_result"
    }
   ],
   "source": [
    "# Encoding the product category\n",
    "label_encoder = preprocessing.LabelEncoder()\n",
    "processed_df['product_category_tree'] = label_encoder.fit_transform(processed_df['product_category_tree'])\n",
    "processed_df['product_category_tree']"
   ]
  },
  {
   "cell_type": "markdown",
   "id": "portable-ordinance",
   "metadata": {},
   "source": [
    "## Data Visualization"
   ]
  },
  {
   "cell_type": "markdown",
   "id": "medieval-expansion",
   "metadata": {},
   "source": [
    "#### Finding the count of rows that are null in each column."
   ]
  },
  {
   "cell_type": "code",
   "execution_count": 18,
   "id": "resistant-police",
   "metadata": {
    "scrolled": true
   },
   "outputs": [
    {
     "data": {
      "text/plain": [
       "uniq_id                       0\n",
       "crawl_timestamp               0\n",
       "product_url                   0\n",
       "product_name                  0\n",
       "product_category_tree         0\n",
       "pid                           0\n",
       "retail_price                 78\n",
       "discounted_price             78\n",
       "image                         3\n",
       "is_FK_Advantage_product       0\n",
       "description                   2\n",
       "product_rating                0\n",
       "overall_rating                0\n",
       "brand                      5864\n",
       "product_specifications       14\n",
       "dtype: int64"
      ]
     },
     "execution_count": 18,
     "metadata": {},
     "output_type": "execute_result"
    }
   ],
   "source": [
    "import_df.isnull().sum()"
   ]
  },
  {
   "cell_type": "markdown",
   "id": "neutral-faculty",
   "metadata": {},
   "source": [
    "#### A heat map (or heatmap) is a graphical representation of data where values are depicted by color. Heat maps make it easy to visualize complex data and understand it at a glance."
   ]
  },
  {
   "cell_type": "code",
   "execution_count": 19,
   "id": "allied-pursuit",
   "metadata": {},
   "outputs": [
    {
     "data": {
      "text/plain": [
       "(array([ 0.5,  1.5,  2.5,  3.5,  4.5,  5.5,  6.5,  7.5,  8.5,  9.5, 10.5,\n",
       "        11.5, 12.5, 13.5, 14.5]),\n",
       " [Text(0.5, 0, 'uniq_id'),\n",
       "  Text(1.5, 0, 'crawl_timestamp'),\n",
       "  Text(2.5, 0, 'product_url'),\n",
       "  Text(3.5, 0, 'product_name'),\n",
       "  Text(4.5, 0, 'product_category_tree'),\n",
       "  Text(5.5, 0, 'pid'),\n",
       "  Text(6.5, 0, 'retail_price'),\n",
       "  Text(7.5, 0, 'discounted_price'),\n",
       "  Text(8.5, 0, 'image'),\n",
       "  Text(9.5, 0, 'is_FK_Advantage_product'),\n",
       "  Text(10.5, 0, 'description'),\n",
       "  Text(11.5, 0, 'product_rating'),\n",
       "  Text(12.5, 0, 'overall_rating'),\n",
       "  Text(13.5, 0, 'brand'),\n",
       "  Text(14.5, 0, 'product_specifications')])"
      ]
     },
     "execution_count": 19,
     "metadata": {},
     "output_type": "execute_result"
    },
    {
     "data": {
      "image/png": "[encoded data removed]",
      "text/plain": [
       "<Figure size 720x432 with 2 Axes>"
      ]
     },
     "metadata": {
      "needs_background": "light"
     },
     "output_type": "display_data"
    }
   ],
   "source": [
    "plt.figure(figsize=(10,6))\n",
    "plt.title(\"Distribution of Null Values\")\n",
    "\n",
    "sns.heatmap(import_df.isnull() , yticklabels=False , cmap='coolwarm' , cbar=True)\n",
    "plt.yticks(fontsize=14)\n",
    "plt.xticks(fontsize=14)"
   ]
  },
  {
   "cell_type": "markdown",
   "id": "abandoned-cleaner",
   "metadata": {},
   "source": [
    "###### Conclusion - Above heatmap shows that the brand column has maximum number of null values which is depicted by the bright color(red)."
   ]
  },
  {
   "cell_type": "markdown",
   "id": "hairy-butterfly",
   "metadata": {},
   "source": [
    "#### The Matplotlib barh() function plots horizontal bar plots.The bars are positioned at specific input values of ‘y’ with the given alignment. "
   ]
  },
  {
   "cell_type": "code",
   "execution_count": 20,
   "id": "unsigned-gauge",
   "metadata": {},
   "outputs": [
    {
     "data": {
      "text/plain": [
       "(array([   0., 1000., 2000., 3000., 4000., 5000., 6000., 7000.]),\n",
       " [Text(0, 0, ''),\n",
       "  Text(0, 0, ''),\n",
       "  Text(0, 0, ''),\n",
       "  Text(0, 0, ''),\n",
       "  Text(0, 0, ''),\n",
       "  Text(0, 0, ''),\n",
       "  Text(0, 0, ''),\n",
       "  Text(0, 0, '')])"
      ]
     },
     "execution_count": 20,
     "metadata": {},
     "output_type": "execute_result"
    },
    {
     "data": {
      "image/png": "[encoded data removed]",
      "text/plain": [
       "<Figure size 720x432 with 1 Axes>"
      ]
     },
     "metadata": {
      "needs_background": "light"
     },
     "output_type": "display_data"
    }
   ],
   "source": [
    "plt.figure(figsize=(10,6))\n",
    "sns.set_style('darkgrid')\n",
    "\n",
    "processed_df1['product_category_tree'].value_counts()[:20].sort_values(ascending=False).plot(kind='barh',color=['black', 'red', 'green', 'blue', 'cyan'],edgecolor='blue')\n",
    "plt.title('Different Product Categories')\n",
    "plt.xlabel('Category Counts')\n",
    "plt.ylabel('Product Categories')\n",
    "plt.yticks(fontsize=14)\n",
    "plt.xticks(fontsize=14)"
   ]
  },
  {
   "cell_type": "markdown",
   "id": "valid-findings",
   "metadata": {},
   "source": [
    "###### Conclusion - Above barh plot shows most of the customer prefer getting Clothes from Flipkart which is depicted by the longest bar(black) clothing"
   ]
  },
  {
   "cell_type": "markdown",
   "id": "reliable-recall",
   "metadata": {},
   "source": [
    "#### Making 'crawl_timestamp' column into a datetime type for workability."
   ]
  },
  {
   "cell_type": "code",
   "execution_count": 21,
   "id": "blond-creator",
   "metadata": {},
   "outputs": [
    {
     "data": {
      "text/plain": [
       "0       2016-03-25 22:59:23+00:00\n",
       "1       2016-03-25 22:59:23+00:00\n",
       "2       2016-03-25 22:59:23+00:00\n",
       "3       2016-03-25 22:59:23+00:00\n",
       "4       2016-03-25 22:59:23+00:00\n",
       "                   ...           \n",
       "19995   2015-12-01 10:15:43+00:00\n",
       "19996   2015-12-01 10:15:43+00:00\n",
       "19997   2015-12-01 10:15:43+00:00\n",
       "19998   2015-12-01 10:15:43+00:00\n",
       "19999   2015-12-01 10:15:43+00:00\n",
       "Name: crawl_timestamp, Length: 20000, dtype: datetime64[ns, UTC]"
      ]
     },
     "execution_count": 21,
     "metadata": {},
     "output_type": "execute_result"
    }
   ],
   "source": [
    "import_df['crawl_timestamp']=pd.to_datetime(import_df['crawl_timestamp'])\n",
    "import_df['crawl_timestamp']"
   ]
  },
  {
   "cell_type": "markdown",
   "id": "looking-fraud",
   "metadata": {},
   "source": [
    "#### Finding the month wise sale of  Flipkart poducts"
   ]
  },
  {
   "cell_type": "code",
   "execution_count": 22,
   "id": "medium-davis",
   "metadata": {},
   "outputs": [
    {
     "data": {
      "text/plain": [
       "0         3\n",
       "1         3\n",
       "2         3\n",
       "3         3\n",
       "4         3\n",
       "         ..\n",
       "19995    12\n",
       "19996    12\n",
       "19997    12\n",
       "19998    12\n",
       "19999    12\n",
       "Name: Month, Length: 20000, dtype: int64"
      ]
     },
     "execution_count": 22,
     "metadata": {},
     "output_type": "execute_result"
    }
   ],
   "source": [
    "import_df['Month']=import_df['crawl_timestamp'].apply(lambda x : x.month)\n",
    "import_df['Month']"
   ]
  },
  {
   "cell_type": "markdown",
   "id": "limited-bandwidth",
   "metadata": {},
   "source": [
    "#### A bar graph is a chart  that presents categorical data with rectangular bars with heights or lengths proportional to the values that they represent. The bars can be plotted vertically or horizontally."
   ]
  },
  {
   "cell_type": "code",
   "execution_count": 23,
   "id": "narrative-notion",
   "metadata": {},
   "outputs": [
    {
     "data": {
      "text/plain": [
       "(array([0, 1, 2, 3, 4, 5, 6]),\n",
       " [Text(0, 0, '1'),\n",
       "  Text(1, 0, '2'),\n",
       "  Text(2, 0, '3'),\n",
       "  Text(3, 0, '4'),\n",
       "  Text(4, 0, '5'),\n",
       "  Text(5, 0, '6'),\n",
       "  Text(6, 0, '12')])"
      ]
     },
     "execution_count": 23,
     "metadata": {},
     "output_type": "execute_result"
    },
    {
     "data": {
      "text/plain": [
       "<Figure size 720x720 with 0 Axes>"
      ]
     },
     "metadata": {},
     "output_type": "display_data"
    },
    {
     "data": {
      "image/png": "[encoded data removed]",
      "text/plain": [
       "<Figure size 432x288 with 1 Axes>"
      ]
     },
     "metadata": {},
     "output_type": "display_data"
    }
   ],
   "source": [
    "# Sales by month\n",
    "plt.figure(figsize=(10,10))\n",
    "import_df.groupby(by='Month',axis=0).count().plot(kind='bar',legend=False)\n",
    "plt.title('Sales By Month')\n",
    "plt.ylabel('Sales')\n",
    "plt.yticks(fontsize=14)\n",
    "plt.xticks(fontsize=14)"
   ]
  },
  {
   "cell_type": "markdown",
   "id": "danish-assumption",
   "metadata": {},
   "source": [
    "###### Conclusion - Above bar chart shows that 12th Month of the year has maximum number of sales which is depicted by the longest bar 12"
   ]
  },
  {
   "cell_type": "markdown",
   "id": "technological-glucose",
   "metadata": {},
   "source": [
    "# Product Category Prediction"
   ]
  },
  {
   "cell_type": "markdown",
   "id": "inner-harvey",
   "metadata": {},
   "source": [
    "#### training set : a subset to train a model.\n",
    "#### test set : a subset to test the trained model.\n",
    "\n",
    "#### Here, the 'processed_df' dataset is sliced into training set and test set.\n",
    "#### In the below code, splitting 'description' and 'product_category_tree' into training and testing sets."
   ]
  },
  {
   "cell_type": "code",
   "execution_count": 24,
   "id": "asian-learning",
   "metadata": {},
   "outputs": [],
   "source": [
    "X_train , X_test , y_train , y_test = train_test_split(processed_df['description'] , \n",
    "                                                       processed_df['product_category_tree'] ,test_size=0.2)"
   ]
  },
  {
   "cell_type": "markdown",
   "id": "educated-bread",
   "metadata": {},
   "source": [
    "#### CountVectorizer() -> It gives the frequency of occurence of each words in its vocabulary.\n",
    "#### stop_words = 'english' -> It helps to remove the list of words we donot want to use as feature.\n",
    "\n",
    "#### Below code block, removes the stop words and converts the training data into vectorized form. "
   ]
  },
  {
   "cell_type": "code",
   "execution_count": 25,
   "id": "rough-advertising",
   "metadata": {},
   "outputs": [],
   "source": [
    "vect = CountVectorizer(stop_words='english')\n",
    "X_train_matrix = vect.fit_transform(X_train)"
   ]
  },
  {
   "cell_type": "markdown",
   "id": "resistant-optimum",
   "metadata": {},
   "source": [
    "## The trained model is defined using Multinomial Naive Bayes\n",
    "\n",
    "### Multinomial Naive Bayes:  Feature vectors represent the frequencies with which certain events have been generated by a multinomial distribution. This is the event model typically used for document classification.\n",
    "\n",
    "### Since the given dataset is discrete and follows Multinomial distribution,so Multinomial NB classifier is used."
   ]
  },
  {
   "cell_type": "markdown",
   "id": "floating-girlfriend",
   "metadata": {},
   "source": [
    "##### Below code block is for defining the model with vectorized training data and calculating the score"
   ]
  },
  {
   "cell_type": "code",
   "execution_count": 26,
   "id": "headed-reminder",
   "metadata": {},
   "outputs": [
    {
     "name": "stdout",
     "output_type": "stream",
     "text": [
      "Score For The Trained Model:  0.992346694728786\n"
     ]
    }
   ],
   "source": [
    "#Defining the model using multinomial\n",
    "mnb = MultinomialNB()\n",
    "\n",
    "#Fitting to multinomial NB model \n",
    "mnb.fit(X_train_matrix , y_train)\n",
    "\n",
    "#checking how well the model explains the data it was trained with\n",
    "print(\"Score For The Trained Model: \", mnb.score(X_train_matrix , y_train))"
   ]
  },
  {
   "cell_type": "markdown",
   "id": "prescribed-newsletter",
   "metadata": {},
   "source": [
    "#### Below code block converts the test data to vectorized form and calculates the score"
   ]
  },
  {
   "cell_type": "code",
   "execution_count": 27,
   "id": "junior-leeds",
   "metadata": {},
   "outputs": [
    {
     "name": "stdout",
     "output_type": "stream",
     "text": [
      "Score For The Test Data:  0.991583779648049\n"
     ]
    }
   ],
   "source": [
    "X_test_matrix = vect.transform(X_test)\n",
    "print(\"Score For The Test Data: \", mnb.score(X_test_matrix,y_test))"
   ]
  },
  {
   "cell_type": "markdown",
   "id": "colored-cotton",
   "metadata": {},
   "source": [
    "#### metric is used for classification performance.It is a module in sklearn.\n",
    "#### Below code block, measures the accuracy of the model :~\n",
    "#### 1. At first, the trained model is predicting the product category using predict method which takes test vectorized data(X_test_matrix) as an input.\n",
    "#### 2. Then, the accuracy of the model is checked by comparing actual test product category and predicted product category. "
   ]
  },
  {
   "cell_type": "code",
   "execution_count": 28,
   "id": "split-catering",
   "metadata": {},
   "outputs": [
    {
     "name": "stdout",
     "output_type": "stream",
     "text": [
      "Multinomial Naive Bayes model accuracy(in %): 99.1583779648049\n"
     ]
    }
   ],
   "source": [
    "y_predicted = mnb.predict(X_test_matrix)\n",
    "print(\"Multinomial Naive Bayes model accuracy(in %):\", metrics.accuracy_score(y_test,y_predicted)*100)"
   ]
  },
  {
   "cell_type": "code",
   "execution_count": 29,
   "id": "crude-click",
   "metadata": {},
   "outputs": [
    {
     "name": "stdout",
     "output_type": "stream",
     "text": [
      "              precision    recall  f1-score   support\n",
      "\n",
      "           0       0.99      0.99      0.99       198\n",
      "           1       1.00      1.00      1.00      1233\n",
      "           2       0.97      0.99      0.98       254\n",
      "           3       0.98      1.00      0.99       730\n",
      "           4       1.00      0.93      0.97       199\n",
      "\n",
      "    accuracy                           0.99      2614\n",
      "   macro avg       0.99      0.98      0.99      2614\n",
      "weighted avg       0.99      0.99      0.99      2614\n",
      "\n"
     ]
    }
   ],
   "source": [
    "print(classification_report(y_test,y_predicted))"
   ]
  },
  {
   "cell_type": "markdown",
   "id": "prescribed-consultation",
   "metadata": {},
   "source": [
    "###### Testing Block that is Predicting the product category:"
   ]
  },
  {
   "cell_type": "code",
   "execution_count": 30,
   "id": "computational-salad",
   "metadata": {},
   "outputs": [
    {
     "data": {
      "text/plain": [
       "array(['Automotive'], dtype=object)"
      ]
     },
     "execution_count": 30,
     "metadata": {},
     "output_type": "execute_result"
    }
   ],
   "source": [
    "label_encoder.inverse_transform(mnb.predict(vect.transform(['car'])))"
   ]
  },
  {
   "cell_type": "markdown",
   "id": "processed-joseph",
   "metadata": {},
   "source": [
    "### Q.How can the above  accuracy of the model be improved ?"
   ]
  },
  {
   "cell_type": "markdown",
   "id": "expressed-position",
   "metadata": {},
   "source": [
    "###### Answer : Improving the  accuracy of  the model will give the precise results in various scenarios making such model more meaningful and relevant to enrich the customer experience when used in real-life.\n",
    "\n",
    "\n",
    "###### Different ways to improve accuracy of the model  are as follows:\n",
    "(i) Feed with More Training Data - More training data means adding variety of data that can cover wide-ranging scenario to avoid the biased decisions.Hence, the more data you feed it will definitely improve the accuracy of model.\n",
    "\n",
    "(ii) Treat the Missing Values in Data - The missing and outlier values in the training data also reduce the accuracy of model or makes the model give a biased decision.It happens because usually we don’t analyze the action and relationship with other variables in the right way.\n",
    "\n",
    "(iii) Finding the Right Variables or Features - Another way to improve the model accuracy is finding the right variables or features which is extracted as new information. Actually, features have a maximum impact on the outcome and is one of the key aspects.\n",
    "\n",
    "(iv) Re-validation of Model - The accuracy of model can be also improved by re-validating the model at regular intervals. For this, it is important to score the model after using the new data on a daily, weekly or monthly basis as per the changes in the data.\n",
    "\n",
    "(v) Ensemble Models Method - Ensemble models is the most common method that combines multiple models to improve accuracy using bagging and boosting. The Ensemble method can improve the performance of prediction."
   ]
  },
  {
   "cell_type": "markdown",
   "id": "popular-jamaica",
   "metadata": {},
   "source": [
    "### Q. What other algorithms can be tried to improve the accuracy of the model? "
   ]
  },
  {
   "cell_type": "markdown",
   "id": "eligible-conference",
   "metadata": {},
   "source": [
    "#### Answer: Some algorithms are as follows:\n",
    "\n",
    "(i) Algorithm Tuning - The objective of parameter tuning is to find the optimum value for each parameter to improve the accuracy of the model. To tune these parameters, we must have a good understanding of these meaning and their individual impact on model. we can repeat this process with a number of well performing models.\n",
    "\n",
    "\n",
    "(ii) Multiple algorithms - Hitting at the right algorithm is the ideal approach to achieve higher accuracy.\n",
    "This intuition comes with experience and incessant practice. Some algorithms are better suited to a particular type of data sets than others. Hence, we should apply all relevant models and check the performance."
   ]
  },
  {
   "cell_type": "markdown",
   "id": "structural-louis",
   "metadata": {},
   "source": [
    "## Conclusion\n",
    "\n",
    "After predicting the product category on the given flipkart dataset,we can conclude that:-\n",
    "\n",
    "* Multinomial Naive Bayes classifier works well for this dataset with an accuracy of above 99%.This is a business ready model to deploy."
   ]
  }
 ],
 "metadata": {
  "kernelspec": {
   "display_name": "Python 3",
   "language": "python",
   "name": "python3"
  },
  "language_info": {
   "codemirror_mode": {
    "name": "ipython",
    "version": 3
   },
   "file_extension": ".py",
   "mimetype": "text/x-python",
   "name": "python",
   "nbconvert_exporter": "python",
   "pygments_lexer": "ipython3",
   "version": "3.9.2"
  }
 },
 "nbformat": 4,
 "nbformat_minor": 5
}
